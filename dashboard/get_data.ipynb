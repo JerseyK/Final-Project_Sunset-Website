{
 "cells": [
  {
   "cell_type": "markdown",
   "id": "f43dcea0-4b7d-4e5f-a01c-a219d9bfe4cd",
   "metadata": {},
   "source": [
    "# Sample Data Needed"
   ]
  },
  {
   "cell_type": "markdown",
   "id": "ebcf2a1d-fab5-44bd-a497-1b66ae0430e8",
   "metadata": {},
   "source": [
    "## the matching list"
   ]
  },
  {
   "cell_type": "code",
   "execution_count": 3,
   "id": "2a339e07-0a8c-435f-9df0-b1e1d363a018",
   "metadata": {},
   "outputs": [
    {
     "data": {
      "text/html": [
       "<div>\n",
       "<style scoped>\n",
       "    .dataframe tbody tr th:only-of-type {\n",
       "        vertical-align: middle;\n",
       "    }\n",
       "\n",
       "    .dataframe tbody tr th {\n",
       "        vertical-align: top;\n",
       "    }\n",
       "\n",
       "    .dataframe thead th {\n",
       "        text-align: right;\n",
       "    }\n",
       "</style>\n",
       "<table border=\"1\" class=\"dataframe\">\n",
       "  <thead>\n",
       "    <tr style=\"text-align: right;\">\n",
       "      <th></th>\n",
       "      <th>index</th>\n",
       "      <th>0</th>\n",
       "    </tr>\n",
       "  </thead>\n",
       "  <tbody>\n",
       "    <tr>\n",
       "      <th>0</th>\n",
       "      <td>Cheese Store</td>\n",
       "      <td>Walmart</td>\n",
       "    </tr>\n",
       "    <tr>\n",
       "      <th>1</th>\n",
       "      <td>Towel Company</td>\n",
       "      <td>Target</td>\n",
       "    </tr>\n",
       "    <tr>\n",
       "      <th>2</th>\n",
       "      <td>Food Suppier</td>\n",
       "      <td>Costco</td>\n",
       "    </tr>\n",
       "    <tr>\n",
       "      <th>3</th>\n",
       "      <td>Food Suppier</td>\n",
       "      <td>Walmart</td>\n",
       "    </tr>\n",
       "  </tbody>\n",
       "</table>\n",
       "</div>"
      ],
      "text/plain": [
       "           index        0\n",
       "0   Cheese Store  Walmart\n",
       "1  Towel Company   Target\n",
       "2   Food Suppier   Costco\n",
       "3   Food Suppier  Walmart"
      ]
     },
     "execution_count": 3,
     "metadata": {},
     "output_type": "execute_result"
    }
   ],
   "source": [
    "import pandas as pd\n",
    "\n",
    "buyers = ['Walmart', 'Target', 'Costco','Walmart']\n",
    "sellers = ['Cheese Store','Towel Company','Food Suppier','Food Suppier']\n",
    "\n",
    "table = pd.DataFrame(buyers,sellers).reset_index()\n",
    "table"
   ]
  },
  {
   "cell_type": "code",
   "execution_count": 17,
   "id": "649158e9-6a8c-434d-8dcf-b1d9d16dfa8a",
   "metadata": {},
   "outputs": [
    {
     "data": {
      "text/html": [
       "<div>\n",
       "<style scoped>\n",
       "    .dataframe tbody tr th:only-of-type {\n",
       "        vertical-align: middle;\n",
       "    }\n",
       "\n",
       "    .dataframe tbody tr th {\n",
       "        vertical-align: top;\n",
       "    }\n",
       "\n",
       "    .dataframe thead th {\n",
       "        text-align: right;\n",
       "    }\n",
       "</style>\n",
       "<table border=\"1\" class=\"dataframe\">\n",
       "  <thead>\n",
       "    <tr style=\"text-align: right;\">\n",
       "      <th></th>\n",
       "      <th>Buy</th>\n",
       "      <th>Sell</th>\n",
       "    </tr>\n",
       "  </thead>\n",
       "  <tbody>\n",
       "    <tr>\n",
       "      <th>0</th>\n",
       "      <td>Walmart</td>\n",
       "      <td>Cheese Store</td>\n",
       "    </tr>\n",
       "    <tr>\n",
       "      <th>1</th>\n",
       "      <td>Target</td>\n",
       "      <td>Towel Company</td>\n",
       "    </tr>\n",
       "    <tr>\n",
       "      <th>2</th>\n",
       "      <td>Costco</td>\n",
       "      <td>Food Suppier</td>\n",
       "    </tr>\n",
       "    <tr>\n",
       "      <th>3</th>\n",
       "      <td>Walmart</td>\n",
       "      <td>Food Suppier</td>\n",
       "    </tr>\n",
       "  </tbody>\n",
       "</table>\n",
       "</div>"
      ],
      "text/plain": [
       "       Buy           Sell\n",
       "0  Walmart   Cheese Store\n",
       "1   Target  Towel Company\n",
       "2   Costco   Food Suppier\n",
       "3  Walmart   Food Suppier"
      ]
     },
     "execution_count": 17,
     "metadata": {},
     "output_type": "execute_result"
    }
   ],
   "source": [
    "Table = pd.DataFrame({\"Buy\": ['Walmart', 'Target', 'Costco','Walmart'],\n",
    "\"Sell\": ['Cheese Store','Towel Company','Food Suppier','Food Suppier']})\n",
    "Table"
   ]
  },
  {
   "cell_type": "code",
   "execution_count": 42,
   "id": "0741a25a-cf2d-4220-ac55-fc9717dcf855",
   "metadata": {},
   "outputs": [
    {
     "data": {
      "text/html": [
       "<div>\n",
       "<style scoped>\n",
       "    .dataframe tbody tr th:only-of-type {\n",
       "        vertical-align: middle;\n",
       "    }\n",
       "\n",
       "    .dataframe tbody tr th {\n",
       "        vertical-align: top;\n",
       "    }\n",
       "\n",
       "    .dataframe thead th {\n",
       "        text-align: right;\n",
       "    }\n",
       "</style>\n",
       "<table border=\"1\" class=\"dataframe\">\n",
       "  <thead>\n",
       "    <tr style=\"text-align: right;\">\n",
       "      <th></th>\n",
       "      <th>Sell</th>\n",
       "    </tr>\n",
       "    <tr>\n",
       "      <th>Buy</th>\n",
       "      <th></th>\n",
       "    </tr>\n",
       "  </thead>\n",
       "  <tbody>\n",
       "    <tr>\n",
       "      <th>Costco</th>\n",
       "      <td>[Food Suppier]</td>\n",
       "    </tr>\n",
       "    <tr>\n",
       "      <th>Target</th>\n",
       "      <td>[Towel Company]</td>\n",
       "    </tr>\n",
       "    <tr>\n",
       "      <th>Walmart</th>\n",
       "      <td>[Cheese Store, Food Suppier]</td>\n",
       "    </tr>\n",
       "  </tbody>\n",
       "</table>\n",
       "</div>"
      ],
      "text/plain": [
       "                                 Sell\n",
       "Buy                                  \n",
       "Costco                 [Food Suppier]\n",
       "Target                [Towel Company]\n",
       "Walmart  [Cheese Store, Food Suppier]"
      ]
     },
     "execution_count": 42,
     "metadata": {},
     "output_type": "execute_result"
    }
   ],
   "source": [
    "pd.pivot_table(Table, index='Buy', values='Sell', aggfunc=list)\n",
    "# Table.sort_values(ascending='Buy')\n",
    "\n",
    "# Table.groupby('Buy')['Sell']\n",
    "# Table.groupby('Buy')['Sell'].apply(list)\n",
    "# Table.groupby('Buy').agg({'sell':lambda x: list(x)})\n"
   ]
  },
  {
   "cell_type": "markdown",
   "id": "63c31db3-b5ef-4e6d-816b-119b2defcbc8",
   "metadata": {},
   "source": [
    "## the company info"
   ]
  },
  {
   "cell_type": "code",
   "execution_count": 39,
   "id": "c4f92f9e-bcfa-4187-9fd3-2504966da1d9",
   "metadata": {},
   "outputs": [
    {
     "data": {
      "text/html": [
       "<div>\n",
       "<style scoped>\n",
       "    .dataframe tbody tr th:only-of-type {\n",
       "        vertical-align: middle;\n",
       "    }\n",
       "\n",
       "    .dataframe tbody tr th {\n",
       "        vertical-align: top;\n",
       "    }\n",
       "\n",
       "    .dataframe thead th {\n",
       "        text-align: right;\n",
       "    }\n",
       "</style>\n",
       "<table border=\"1\" class=\"dataframe\">\n",
       "  <thead>\n",
       "    <tr style=\"text-align: right;\">\n",
       "      <th></th>\n",
       "      <th>Company</th>\n",
       "      <th>Profit</th>\n",
       "      <th>Growth</th>\n",
       "    </tr>\n",
       "  </thead>\n",
       "  <tbody>\n",
       "    <tr>\n",
       "      <th>0</th>\n",
       "      <td>Walmart</td>\n",
       "      <td>1M</td>\n",
       "      <td>3%</td>\n",
       "    </tr>\n",
       "    <tr>\n",
       "      <th>1</th>\n",
       "      <td>Target</td>\n",
       "      <td>10M</td>\n",
       "      <td>5%</td>\n",
       "    </tr>\n",
       "    <tr>\n",
       "      <th>2</th>\n",
       "      <td>Costco</td>\n",
       "      <td>2B</td>\n",
       "      <td>3%</td>\n",
       "    </tr>\n",
       "    <tr>\n",
       "      <th>3</th>\n",
       "      <td>Wegmans</td>\n",
       "      <td>3M</td>\n",
       "      <td>11%</td>\n",
       "    </tr>\n",
       "  </tbody>\n",
       "</table>\n",
       "</div>"
      ],
      "text/plain": [
       "   Company Profit Growth\n",
       "0  Walmart     1M     3%\n",
       "1   Target    10M     5%\n",
       "2   Costco     2B     3%\n",
       "3  Wegmans     3M    11%"
      ]
     },
     "execution_count": 39,
     "metadata": {},
     "output_type": "execute_result"
    }
   ],
   "source": [
    "CInfo = pd.DataFrame({\"Company\": ['Walmart', 'Target', 'Costco','Wegmans'],\n",
    "\"Profit\": ['1M','10M','2B','3M'],\n",
    "\"Growth\": ['3%', '5%', '3%','11%'],})\n",
    "CInfo"
   ]
  },
  {
   "cell_type": "code",
   "execution_count": null,
   "id": "e9cf9a20-adf5-412b-81ad-82bbad247cb7",
   "metadata": {},
   "outputs": [],
   "source": []
  }
 ],
 "metadata": {
  "kernelspec": {
   "display_name": "Python 3 (ipykernel)",
   "language": "python",
   "name": "python3"
  },
  "language_info": {
   "codemirror_mode": {
    "name": "ipython",
    "version": 3
   },
   "file_extension": ".py",
   "mimetype": "text/x-python",
   "name": "python",
   "nbconvert_exporter": "python",
   "pygments_lexer": "ipython3",
   "version": "3.8.16"
  }
 },
 "nbformat": 4,
 "nbformat_minor": 5
}
