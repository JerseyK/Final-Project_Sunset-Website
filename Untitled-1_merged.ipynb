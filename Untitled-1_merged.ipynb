{
 "cells": [
  {
   "cell_type": "code",
   "execution_count": 1,
   "metadata": {},
   "outputs": [],
   "source": [
    "import pandas as pd"
   ]
  },
  {
   "cell_type": "code",
   "execution_count": 4,
   "metadata": {},
   "outputs": [
    {
     "data": {
      "text/plain": [
       "array(['MARKET', 'COMPANY', 'GEOREG', 'GOVDOM', 'GOVFRN'], dtype=object)"
      ]
     },
     "execution_count": 4,
     "metadata": {},
     "output_type": "execute_result"
    }
   ],
   "source": [
    "raw = pd.read_csv('data/compustat_final.csv')\n",
    "raw['ctype'].unique()"
   ]
  },
  {
   "cell_type": "code",
   "execution_count": null,
   "metadata": {},
   "outputs": [
    {
     "data": {
      "text/plain": [
       "Index(['zoo', 'gvkey', 'cid', 'cnms', 'ctype', 'gareac', 'gareat', 'salecs',\n",
       "       'sid', 'stype', 'srcdate', 'conm', 'tic', 'cusip', 'CIK', 'sic',\n",
       "       'Symbol', 'Security', 'GICS Sector', 'GICS Sub-Industry',\n",
       "       'Headquarters Location', 'Date added', 'Founded'],\n",
       "      dtype='object')"
      ]
     },
     "execution_count": 11,
     "metadata": {},
     "output_type": "execute_result"
    }
   ],
   "source": [
    "raw.columns"
   ]
  },
  {
   "cell_type": "code",
   "execution_count": 43,
   "metadata": {},
   "outputs": [
    {
     "data": {
      "text/plain": [
       "'MARKET'"
      ]
     },
     "execution_count": 43,
     "metadata": {},
     "output_type": "execute_result"
    }
   ],
   "source": [
    "raw['year'] = pd.to_datetime(raw['srcdate']).dt.year\n",
    "\n",
    "data = raw\n",
    "data['total_sales'] = raw.groupby(['CIK','ctype','year'])['salecs'].transform(sum)\n",
    "subdata = data[['CIK','conm','ctype','year','salecs','total_sales']]\n",
    "\n",
    "\n",
    "data2 = raw\n",
    "data2['total_sales'] = raw.groupby(['GICS Sector','ctype','year'])['salecs'].transform(sum)\n",
    "subdata2 = data2[['GICS Sector','ctype','year','salecs','total_sales']]\n",
    "\n",
    "#csv of hte subdata 1 & 2\n",
    "subdata2.iloc[0,1]"
   ]
  },
  {
   "cell_type": "code",
   "execution_count": null,
   "metadata": {},
   "outputs": [],
   "source": []
  },
  {
   "cell_type": "code",
   "execution_count": null,
   "metadata": {},
   "outputs": [],
   "source": []
  }
 ],
 "metadata": {
  "kernelspec": {
   "display_name": "Python 3",
   "language": "python",
   "name": "python3"
  },
  "language_info": {
   "codemirror_mode": {
    "name": "ipython",
    "version": 3
   },
   "file_extension": ".py",
   "mimetype": "text/x-python",
   "name": "python",
   "nbconvert_exporter": "python",
   "pygments_lexer": "ipython3",
   "version": "3.9.16"
  },
  "orig_nbformat": 4
 },
 "nbformat": 4,
 "nbformat_minor": 2
}
