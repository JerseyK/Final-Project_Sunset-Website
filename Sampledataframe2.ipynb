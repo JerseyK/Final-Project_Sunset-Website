{
 "cells": [
  {
   "cell_type": "code",
   "execution_count": 8,
   "metadata": {},
   "outputs": [],
   "source": [
    "import pandas as pd\n",
    "import numpy as np\n",
    "\n",
    "# create data for 2019 and 2022\n",
    "data_2019 = {'seller': [f\"Seller {i}\" for i in range(1, 21)],\n",
    "             'buyer': ['Government', 'Market', 'Company', 'Other', 'Government',\n",
    "                       'Market', 'Company', 'Other', 'Government', 'Market',\n",
    "                       'Company', 'Other', 'Government', 'Market', 'Company',\n",
    "                       'Other', 'Government', 'Market', 'Company', 'Other'],\n",
    "             'sales': [100000, 50000, 75000, 25000, 200000, 150000, 175000,\n",
    "                       125000, 300000, 250000, 275000, 225000, 400000, 350000,\n",
    "                       375000, 325000, 500000, 450000, 475000, 425000],\n",
    "             'year': [2019] * 20,\n",
    "             'industry': ['Type A', 'Type B', 'Type C', 'Type D', 'Type E',\n",
    "                          'Type A', 'Type B', 'Type C', 'Type D', 'Type E',\n",
    "                          'Type A', 'Type B', 'Type C', 'Type D', 'Type E',\n",
    "                          'Type A', 'Type B', 'Type C', 'Type D', 'Type E']}\n",
    "df_2019 = pd.DataFrame(data_2019)\n",
    "\n",
    "data_2022 = {'seller': [f\"Seller {i}\" for i in range(1, 21)],\n",
    "             'buyer': ['Government', 'Market', 'Company', 'Other', 'Government',\n",
    "                       'Market', 'Company', 'Other', 'Government', 'Market',\n",
    "                       'Company', 'Other', 'Government', 'Market', 'Company',\n",
    "                       'Other', 'Government', 'Market', 'Company', 'Other'],\n",
    "             'sales': [150000, 100000, 125000, 75000, 300000, 250000, 275000,\n",
    "                       225000, 450000, 400000, 425000, 375000, 600000, 550000,\n",
    "                       575000, 525000, 750000, 700000, 725000, 675000],\n",
    "             'year': [2022] * 20,\n",
    "             'industry': ['Type A', 'Type B', 'Type C', 'Type D', 'Type E',\n",
    "                          'Type A', 'Type B', 'Type C', 'Type D', 'Type E',\n",
    "                          'Type A', 'Type B', 'Type C', 'Type D', 'Type E',\n",
    "                          'Type A', 'Type B', 'Type C', 'Type D', 'Type E']}\n",
    "df_2022 = pd.DataFrame(data_2022)\n",
    "\n",
    "# add seller symbol column\n",
    "df_2019['symbol'] = ['S' + str(i) for i in range(1, 21)]\n",
    "df_2022['symbol'] = ['S' + str(i) for i in range(1, 21)]\n",
    "\n",
    "# add change in sales column for 2022\n",
    "df_2022['sales_change'] = df_2022['sales'] - df_2019['sales']\n",
    "\n",
    "# add year 2021\n",
    "df_2021 = df_2019.copy()\n",
    "df_2021['year'] = 2021\n",
    "df_2021['sales'] += 10\n",
    "df_2021['sales_change'] = df_2021['sales'] - df_2019['sales']\n",
    "\n",
    "# combine all data frames\n",
    "df = pd.concat([df_2019, df_2021,df_2022])\n",
    "df.to_csv(\"data/test.csv\")"
   ]
  },
  {
   "cell_type": "code",
   "execution_count": null,
   "metadata": {},
   "outputs": [],
   "source": []
  }
 ],
 "metadata": {
  "kernelspec": {
   "display_name": "Python 3",
   "language": "python",
   "name": "python3"
  },
  "language_info": {
   "codemirror_mode": {
    "name": "ipython",
    "version": 3
   },
   "file_extension": ".py",
   "mimetype": "text/x-python",
   "name": "python",
   "nbconvert_exporter": "python",
   "pygments_lexer": "ipython3",
   "version": "3.9.12"
  },
  "orig_nbformat": 4
 },
 "nbformat": 4,
 "nbformat_minor": 2
}
